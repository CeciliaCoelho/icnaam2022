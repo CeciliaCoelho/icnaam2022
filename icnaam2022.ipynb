{
 "cells": [
  {
   "cell_type": "markdown",
   "metadata": {},
   "source": [
    "# C. Coelho, M. F. P. Costa, and L.L. Ferrás, \"The role of adaptive activation functions in Fractional Physics-Informed Neural Networks\" [[1]](https://arxiv.org)"
   ]
  },
  {
   "cell_type": "code",
   "execution_count": null,
   "metadata": {
    "id": "7gbazrFIcvG2"
   },
   "outputs": [],
   "source": [
    "%%capture\n",
    "!python setup.py install"
   ]
  },
  {
   "cell_type": "code",
   "execution_count": null,
   "metadata": {},
   "outputs": [],
   "source": [
    "%%capture\n",
    "pip install scikit-optimize matplotlib pandas"
   ]
  },
  {
   "cell_type": "code",
   "execution_count": null,
   "metadata": {
    "colab": {
     "base_uri": "https://localhost:8080/"
    },
    "id": "Dt03s9DJ2el0",
    "outputId": "8cef8f62-0240-4aab-bf2b-85229b306c2c"
   },
   "outputs": [],
   "source": [
    "%%capture\n",
    "from __future__ import absolute_import\n",
    "from __future__ import division\n",
    "from __future__ import print_function\n",
    "\n",
    "import numpy as np\n",
    "from scipy.special import gamma\n",
    "import matplotlib.pyplot as plt\n",
    "import pandas as pd\n",
    "\n",
    "import deepxde as dde\n",
    "from deepxde.backend import tf"
   ]
  },
  {
   "cell_type": "markdown",
   "metadata": {},
   "source": [
    "## Introduction"
   ]
  },
  {
   "cell_type": "markdown",
   "metadata": {},
   "source": [
    "In this notebook we want to study the effect of adaptive activation functions on the convergence rate and solution\n",
    "accuracy of fPINNs [[2]](https://arxiv.org/abs/1811.08967v1). \n",
    "\n",
    "We consider the numerical solution of the fractional Laplacian equation (FLE),\n",
    "\n",
    "\\begin{equation}\n",
    "    (-\\Delta)^{\\alpha/2}u(x)=f(x),~~~u(0)=u(1)=0,~~~x\\in(0,1),~\\alpha\\in(1,2) \\tag{1}\n",
    "\\end{equation}\n",
    "where $(-\\Delta)^{\\alpha/2}$ is the fractional Laplacian operator [[3]](https://arxiv.org). \n",
    "\n",
    "<span style=\"color:red\">add link to go to icnaam 2021 paper</span>"
   ]
  },
  {
   "cell_type": "markdown",
   "metadata": {},
   "source": [
    "We introduced one trainable parameter per layer to the activation functions and solved the\n",
    "1D Fractional Laplacian Equation with a non-smooth analytical solution. \n",
    "Also, the aim of the experiments was to analyse the limitations of fPINNs when solving the FLE with a series of gradually smaller non-integer order α values. "
   ]
  },
  {
   "cell_type": "markdown",
   "metadata": {
    "id": "fLbF4giW2el-"
   },
   "source": [
    "Taking $f(x)=\\left(2\\cos\\left(\\frac{\\pi\\alpha}{2}\\right)\\right)\\Gamma (\\alpha + 2)x$ comes $u(x)=x(1-x^2)^{\\alpha /2}$ as the numerical solution of equation (1). This solution is non-smooth being a more extreme case so greater difficulties, in in approximating the fractional operator (through the difference scheme) and in solving the equation by fPINN, are expected as seen in [[3]](https://arxiv.org).\n"
   ]
  },
  {
   "cell_type": "markdown",
   "metadata": {},
   "source": [
    "## Experiments description"
   ]
  },
  {
   "cell_type": "markdown",
   "metadata": {},
   "source": [
    "We considered a feed-forward NN with 5 hidden layers and a configuration of 128-64-32-16-8 neurons.\n",
    "In our work training waas done with different combinations of hyperparameters:\n",
    "- activation function: tanh, silu;\n",
    "- optimizer: L-BFGS;\n",
    "- initializer (weights): Glorot Normal with mean and standard deviation given respectively by $0$ and  $\\sqrt{\\frac{2}{n^{k}+n^{k-1}}}$ ($n^j$ is the number of neurons in the layer $j=k-1,k$) and uniform distributions given by $U(-1,1)$ and $U(-2,2)$;\n",
    "- alpha: 1.9,1.8,1.7,1.6,1.5,1.4,1.3,1.2;"
   ]
  },
  {
   "cell_type": "code",
   "execution_count": null,
   "metadata": {
    "id": "yTUJOw_B2el_"
   },
   "outputs": [],
   "source": [
    "def NN(activation, optimizer, initializer, alpha):\n",
    "    \n",
    "    def fle(x, y, int_mat):\n",
    "        # defining the fractional Laplacian equation(1)\n",
    "        if isinstance(int_mat, (list, tuple)) and len(int_mat) == 3:\n",
    "            int_mat = tf.SparseTensor(*int_mat)\n",
    "            lhs = tf.sparse_tensor_dense_matmul(int_mat, y)\n",
    "        else:\n",
    "          \n",
    "          lhs = tf.matmul(int_mat, y)\n",
    "         \n",
    "        lhs /= 2 * np.cos(alpha * np.pi / 2)\n",
    "        rhs = gamma(alpha + 2) * x\n",
    "        return lhs - rhs[: tf.size(lhs)]\n",
    "\n",
    "    def NNSol(x):\n",
    "        # defining the forced non-smooth numerical solution\n",
    "        return x * (np.abs(1 - x**2)) ** (alpha / 2)\n",
    "        \n",
    "\n",
    "    geom = dde.geometry.Interval(0, 1)\n",
    "    bc = dde.DirichletBC(geom, NNSol, lambda _, on_boundary: on_boundary)\n",
    "\n",
    "\n",
    "    data = dde.data.FPDE(geom, fle, alpha, bc, [101], meshtype=\"static\", solution=NNSol, num_domain=40)\n",
    "    \n",
    "    # network architecture\n",
    "    net = dde.maps.FNN([1] + [128] + [64] + [32] + [16] + [8] + [1], activation, initializer)\n",
    "    net.apply_output_transform(lambda x, y: x * (1 - x) * y)\n",
    "\n",
    "    # training\n",
    "    model = dde.Model(data, net)\n",
    "    model.compile(optimizer, metrics=[\"l2 relative error\"])\n",
    "    losshistory, train_state = model.train(epochs=50000)\n",
    "\n",
    "    # testing\n",
    "    X = geom.random_points(1000)\n",
    "    y_true = NNSol(X)\n",
    "    y_pred = model.predict(X)\n",
    "    \n",
    "    model.print_model()\n",
    "    \n",
    "    return losshistory "
   ]
  },
  {
   "cell_type": "markdown",
   "metadata": {},
   "source": [
    "To avoid being trapped in a local optimal solution we implemented a multi-start strategy"
   ]
  },
  {
   "cell_type": "code",
   "execution_count": null,
   "metadata": {},
   "outputs": [],
   "source": [
    "def multiStart(n, activation, optimizer, initializer, l_alpha):\n",
    "    res = {}\n",
    "    for j in range(len(l_alpha)):\n",
    "        res[str(l_alpha[j])] = []\n",
    "        for i in range(n):\n",
    "            res[str(l_alpha[j])].append(NN(activation, optimizer, initializer, l_alpha[j]))\n",
    "    return res"
   ]
  },
  {
   "cell_type": "code",
   "execution_count": null,
   "metadata": {},
   "outputs": [],
   "source": [
    "# list with alpha values\n",
    "l_alpha = [1.9,1.8,1.7,1.6,1.5,1.4,1.3,1.2]"
   ]
  },
  {
   "cell_type": "markdown",
   "metadata": {},
   "source": [
    "## Training using different weight's initialization"
   ]
  },
  {
   "cell_type": "markdown",
   "metadata": {},
   "source": [
    "### Glorot Normal"
   ]
  },
  {
   "cell_type": "markdown",
   "metadata": {},
   "source": [
    "#### Tanh"
   ]
  },
  {
   "cell_type": "code",
   "execution_count": null,
   "metadata": {
    "id": "VyH7vAW52el_",
    "outputId": "3cfd2a1c-56d2-4835-b6a2-51600ab8acc6"
   },
   "outputs": [],
   "source": [
    "rGlorotTanh = multiStart(5, 'LAAF-1 tanh', 'L-BFGS',\"Glorot normal\", l_alpha)"
   ]
  },
  {
   "cell_type": "markdown",
   "metadata": {},
   "source": [
    "#### Silu"
   ]
  },
  {
   "cell_type": "code",
   "execution_count": null,
   "metadata": {
    "id": "9l1xTH1p2emA",
    "outputId": "3ae29528-b849-4580-ecf5-dc973a6db744"
   },
   "outputs": [],
   "source": [
    "rGlorotSilu = multiStart(5, 'LAAF-1 silu', 'L-BFGS',\"Glorot normal\",l_alpha)"
   ]
  },
  {
   "cell_type": "markdown",
   "metadata": {},
   "source": [
    "### Random uniform [-1,1]"
   ]
  },
  {
   "cell_type": "code",
   "execution_count": null,
   "metadata": {},
   "outputs": [],
   "source": [
    "initializer = tf.keras.initializers.RandomUniform(minval=-1, maxval=1, seed=None)"
   ]
  },
  {
   "cell_type": "markdown",
   "metadata": {},
   "source": [
    "#### Tanh"
   ]
  },
  {
   "cell_type": "code",
   "execution_count": null,
   "metadata": {
    "id": "VyH7vAW52el_",
    "outputId": "3cfd2a1c-56d2-4835-b6a2-51600ab8acc6"
   },
   "outputs": [],
   "source": [
    "rRandom1Tanh = multiStart(5, 'LAAF-1 tanh', 'L-BFGS',initializer,l_alpha)"
   ]
  },
  {
   "cell_type": "markdown",
   "metadata": {},
   "source": [
    "#### Silu"
   ]
  },
  {
   "cell_type": "code",
   "execution_count": null,
   "metadata": {
    "id": "9l1xTH1p2emA",
    "outputId": "3ae29528-b849-4580-ecf5-dc973a6db744"
   },
   "outputs": [],
   "source": [
    "rRandom1Silu = multiStart(5, 'LAAF-1 silu', 'L-BFGS',initializer,l_alpha)"
   ]
  },
  {
   "cell_type": "markdown",
   "metadata": {},
   "source": [
    "### Random uniform [-2,2]"
   ]
  },
  {
   "cell_type": "code",
   "execution_count": null,
   "metadata": {},
   "outputs": [],
   "source": [
    "initializer = tf.keras.initializers.RandomUniform(minval=-2, maxval=2, seed=None)"
   ]
  },
  {
   "cell_type": "markdown",
   "metadata": {},
   "source": [
    "#### Tanh"
   ]
  },
  {
   "cell_type": "code",
   "execution_count": null,
   "metadata": {
    "id": "VyH7vAW52el_",
    "outputId": "3cfd2a1c-56d2-4835-b6a2-51600ab8acc6"
   },
   "outputs": [],
   "source": [
    "rRandom2Tanh = multiStart(5, 'LAAF-1 tanh', 'L-BFGS',initializer,l_alpha)"
   ]
  },
  {
   "cell_type": "markdown",
   "metadata": {},
   "source": [
    "#### Silu"
   ]
  },
  {
   "cell_type": "code",
   "execution_count": null,
   "metadata": {
    "id": "9l1xTH1p2emA",
    "outputId": "3ae29528-b849-4580-ecf5-dc973a6db744"
   },
   "outputs": [],
   "source": [
    "rRandom2Silu = multiStart(5, 'LAAF-1 silu', 'L-BFGS',initializer,l_alpha)"
   ]
  },
  {
   "cell_type": "markdown",
   "metadata": {},
   "source": [
    "## Process and present the results\n",
    "\n",
    "we can organize the L2 relative errors by alpha value in a dataframe by using simple preprocessing"
   ]
  },
  {
   "cell_type": "code",
   "execution_count": null,
   "metadata": {},
   "outputs": [],
   "source": [
    "def organize(results):\n",
    "    for k, v in results.items():\n",
    "        results[k] = list(map(lambda x: x.metrics_test[1][0], v))\n",
    "    print(pd.DataFrame.from_dict(results))"
   ]
  },
  {
   "cell_type": "code",
   "execution_count": null,
   "metadata": {},
   "outputs": [],
   "source": [
    "organize(rGlorotTanh)"
   ]
  },
  {
   "cell_type": "code",
   "execution_count": null,
   "metadata": {},
   "outputs": [],
   "source": [
    "organize(rGlorotSilu)"
   ]
  },
  {
   "cell_type": "code",
   "execution_count": null,
   "metadata": {},
   "outputs": [],
   "source": [
    "organize(rRandom1Tanh)"
   ]
  },
  {
   "cell_type": "code",
   "execution_count": null,
   "metadata": {},
   "outputs": [],
   "source": [
    "organize(rRandom1Silu)"
   ]
  },
  {
   "cell_type": "code",
   "execution_count": null,
   "metadata": {},
   "outputs": [],
   "source": [
    "organize(rRandom2Tanh)"
   ]
  },
  {
   "cell_type": "code",
   "execution_count": null,
   "metadata": {},
   "outputs": [],
   "source": [
    "organize(rRandom2Silu)"
   ]
  }
 ],
 "metadata": {
  "colab": {
   "collapsed_sections": [],
   "name": "fPINNsAdaptive.ipynb",
   "provenance": []
  },
  "kernelspec": {
   "display_name": "Python 3",
   "language": "python",
   "name": "python3"
  },
  "language_info": {
   "codemirror_mode": {
    "name": "ipython",
    "version": 3
   },
   "file_extension": ".py",
   "mimetype": "text/x-python",
   "name": "python",
   "nbconvert_exporter": "python",
   "pygments_lexer": "ipython3",
   "version": "3.8.10"
  }
 },
 "nbformat": 4,
 "nbformat_minor": 1
}
