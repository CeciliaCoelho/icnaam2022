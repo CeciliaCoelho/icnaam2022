{
 "cells": [
  {
   "cell_type": "markdown",
   "metadata": {},
   "source": [
    "# C. Coelho, M. F. P. Costa, and L.L. Ferrás, \"The role of adaptive activation functions in Fractional Physics-Informed Neural Networks\" "
   ]
  },
  {
   "cell_type": "code",
   "execution_count": null,
   "metadata": {
    "colab": {
     "base_uri": "https://localhost:8080/"
    },
    "id": "yxxDLY18U4Er",
    "outputId": "e961c630-92cb-42a5-ba12-f9d68e1a546b"
   },
   "outputs": [],
   "source": [
    "!git clone https://github.com/lululxvi/deepxde.git"
   ]
  },
  {
   "cell_type": "code",
   "execution_count": null,
   "metadata": {
    "id": "7gbazrFIcvG2"
   },
   "outputs": [],
   "source": [
    "!git clone https://github.com/CeciliaCoelho/icnaam2022.git\n",
    "\n",
    "!mv icnaam2022/model.py deepxde/deepxde/model.py\n",
    "!mv icnaam2022/activations.py deepxde/deepxde/nn/activations.py"
   ]
  },
  {
   "cell_type": "code",
   "execution_count": 14,
   "metadata": {
    "colab": {
     "base_uri": "https://localhost:8080/"
    },
    "id": "9E4bv1bD2ely",
    "outputId": "02ba9d3b-efb8-4c6a-dc40-42787c97200e"
   },
   "outputs": [
    {
     "name": "stdout",
     "output_type": "stream",
     "text": [
      "python: can't open file 'deepxde/setup.py': [Errno 2] No such file or directory\r\n"
     ]
    }
   ],
   "source": [
    "%cd deepxde\n",
    "!python setup.py install\n",
    "%cd .."
   ]
  },
  {
   "cell_type": "code",
   "execution_count": 12,
   "metadata": {
    "id": "qzEgJ5JTFV2m"
   },
   "outputs": [
    {
     "name": "stdout",
     "output_type": "stream",
     "text": [
      "Requirement already satisfied: scikit-optimize in /usr/local/lib/python3.8/dist-packages (0.9.0)\n",
      "Requirement already satisfied: matplotlib in /usr/local/lib/python3.8/dist-packages (3.5.2)\n",
      "Requirement already satisfied: pandas in /usr/local/lib/python3.8/dist-packages (1.4.3)\n",
      "Requirement already satisfied: numpy>=1.13.3 in /usr/local/lib/python3.8/dist-packages (from scikit-optimize) (1.22.4)\n",
      "Requirement already satisfied: joblib>=0.11 in /usr/local/lib/python3.8/dist-packages (from scikit-optimize) (1.1.0)\n",
      "Requirement already satisfied: scipy>=0.19.1 in /usr/local/lib/python3.8/dist-packages (from scikit-optimize) (1.9.0)\n",
      "Requirement already satisfied: pyaml>=16.9 in /usr/local/lib/python3.8/dist-packages (from scikit-optimize) (21.10.1)\n",
      "Requirement already satisfied: scikit-learn>=0.20.0 in /usr/local/lib/python3.8/dist-packages (from scikit-optimize) (1.1.1)\n",
      "Requirement already satisfied: kiwisolver>=1.0.1 in /usr/local/lib/python3.8/dist-packages (from matplotlib) (1.4.2)\n",
      "Requirement already satisfied: pillow>=6.2.0 in /usr/local/lib/python3.8/dist-packages (from matplotlib) (9.1.1)\n",
      "Requirement already satisfied: packaging>=20.0 in /usr/local/lib/python3.8/dist-packages (from matplotlib) (21.3)\n",
      "Requirement already satisfied: fonttools>=4.22.0 in /usr/local/lib/python3.8/dist-packages (from matplotlib) (4.33.3)\n",
      "Requirement already satisfied: pyparsing>=2.2.1 in /usr/local/lib/python3.8/dist-packages (from matplotlib) (3.0.9)\n",
      "Requirement already satisfied: cycler>=0.10 in /usr/local/lib/python3.8/dist-packages (from matplotlib) (0.11.0)\n",
      "Requirement already satisfied: python-dateutil>=2.7 in /usr/local/lib/python3.8/dist-packages (from matplotlib) (2.8.2)\n",
      "Requirement already satisfied: pytz>=2020.1 in /usr/local/lib/python3.8/dist-packages (from pandas) (2022.1)\n",
      "Requirement already satisfied: PyYAML in /usr/local/lib/python3.8/dist-packages (from pyaml>=16.9->scikit-optimize) (6.0)\n",
      "Requirement already satisfied: threadpoolctl>=2.0.0 in /usr/local/lib/python3.8/dist-packages (from scikit-learn>=0.20.0->scikit-optimize) (3.1.0)\n",
      "Requirement already satisfied: six>=1.5 in /usr/lib/python3/dist-packages (from python-dateutil>=2.7->matplotlib) (1.14.0)\n",
      "\u001b[33mWARNING: You are using pip version 20.2.4; however, version 22.2.1 is available.\n",
      "You should consider upgrading via the '/usr/bin/python3 -m pip install --upgrade pip' command.\u001b[0m\n",
      "Note: you may need to restart the kernel to use updated packages.\n"
     ]
    }
   ],
   "source": [
    "pip install scikit-optimize matplotlib pandas"
   ]
  },
  {
   "cell_type": "markdown",
   "metadata": {},
   "source": [
    "In this work we aim to analyse the effect of adaptive activation functions on the convergence rate and solution\n",
    "accuracy of fPINNs. For this purpose, we consider the numerical solution of the fractional Laplacian equation (FLE),\n",
    "\n",
    "\\begin{equation}\n",
    "    (-\\Delta)^{\\alpha/2}u(x)=f(x),~~~u(0)=u(1)=0,~~~x\\in(0,1),~\\alpha\\in(1,2) \\tag{1}\n",
    "\\end{equation}\n",
    "where $(-\\Delta)^{\\alpha/2}$ is the fractional Laplacian operator (see <a href=\"http://example.com/\" target=\"_blank\">link</a> for more details). <span style=\"color:red\">add link to go to icnaam 2021 paper</span>"
   ]
  },
  {
   "cell_type": "markdown",
   "metadata": {},
   "source": [
    "we analyse the performance of fPINNs when one adaptive parameter per layer is used in solving the\n",
    "1D Fractional Laplacian Equation with a non-smooth analytical solution. Moreover, we analyse the limitations of\n",
    "fPINNs when solving the FLE with a series of gradually smaller non-integer order α values."
   ]
  },
  {
   "cell_type": "code",
   "execution_count": 13,
   "metadata": {
    "colab": {
     "base_uri": "https://localhost:8080/"
    },
    "id": "Dt03s9DJ2el0",
    "outputId": "8cef8f62-0240-4aab-bf2b-85229b306c2c"
   },
   "outputs": [
    {
     "ename": "ModuleNotFoundError",
     "evalue": "No module named 'deepxde.backend'",
     "output_type": "error",
     "traceback": [
      "\u001b[0;31m------------------------------------\u001b[0m",
      "\u001b[0;31mModuleNotFoundError\u001b[0mTraceback (most recent call last)",
      "Input \u001b[0;32mIn [13]\u001b[0m, in \u001b[0;36m<cell line: 11>\u001b[0;34m()\u001b[0m\n\u001b[1;32m      8\u001b[0m \u001b[38;5;28;01mimport\u001b[39;00m \u001b[38;5;21;01mpandas\u001b[39;00m \u001b[38;5;28;01mas\u001b[39;00m \u001b[38;5;21;01mpd\u001b[39;00m\n\u001b[1;32m     10\u001b[0m \u001b[38;5;28;01mimport\u001b[39;00m \u001b[38;5;21;01mdeepxde\u001b[39;00m \u001b[38;5;28;01mas\u001b[39;00m \u001b[38;5;21;01mdde\u001b[39;00m\n\u001b[0;32m---> 11\u001b[0m \u001b[38;5;28;01mfrom\u001b[39;00m \u001b[38;5;21;01mdeepxde\u001b[39;00m\u001b[38;5;21;01m.\u001b[39;00m\u001b[38;5;21;01mbackend\u001b[39;00m \u001b[38;5;28;01mimport\u001b[39;00m tf\n",
      "\u001b[0;31mModuleNotFoundError\u001b[0m: No module named 'deepxde.backend'"
     ]
    }
   ],
   "source": [
    "from __future__ import absolute_import\n",
    "from __future__ import division\n",
    "from __future__ import print_function\n",
    "\n",
    "import numpy as np\n",
    "from scipy.special import gamma\n",
    "import matplotlib.pyplot as plt\n",
    "import pandas as pd\n",
    "\n",
    "import deepxde as dde\n",
    "from deepxde.backend import tf"
   ]
  },
  {
   "cell_type": "markdown",
   "metadata": {
    "id": "fLbF4giW2el-"
   },
   "source": [
    "We consider the numerical solution of (1) with $f(x)=\\left(2\\cos\\left(\\frac{\\pi\\alpha}{2}\\right)\\right)\\Gamma (\\alpha + 2)x$. The analytical solution is not smooth, and is given by $u(x)=x(1-x^2)^{\\alpha /2}$. As we have seen in an earlier work \\cite{ICNAAM2021}, this case is more extreme and should present greater difficulties in approximating the fractional operator (through the difference scheme) and in solving the equation by fPINN.\n"
   ]
  },
  {
   "cell_type": "code",
   "execution_count": 2,
   "metadata": {
    "id": "yTUJOw_B2el_"
   },
   "outputs": [],
   "source": [
    "def NN(activation, optimizer, initializer, alpha):\n",
    "    \n",
    "    def fle(x, y, int_mat):\n",
    "        # defining the fractional Laplacian equation(1)\n",
    "        if isinstance(int_mat, (list, tuple)) and len(int_mat) == 3:\n",
    "            int_mat = tf.SparseTensor(*int_mat)\n",
    "            lhs = tf.sparse_tensor_dense_matmul(int_mat, y)\n",
    "        else:\n",
    "          \n",
    "          lhs = tf.matmul(int_mat, y)\n",
    "         \n",
    "        lhs /= 2 * np.cos(alpha * np.pi / 2)\n",
    "        rhs = gamma(alpha + 2) * x\n",
    "        return lhs - rhs[: tf.size(lhs)]\n",
    "\n",
    "    def NNSol(x):\n",
    "        # defining the forced non-smooth numerical solution\n",
    "        return x * (np.abs(1 - x**2)) ** (alpha / 2)\n",
    "        \n",
    "\n",
    "    geom = dde.geometry.Interval(0, 1)\n",
    "    bc = dde.DirichletBC(geom, NNSol, lambda _, on_boundary: on_boundary)\n",
    "\n",
    "\n",
    "    data = dde.data.FPDE(geom, fle, alpha, bc, [101], meshtype=\"static\", solution=NNSol, num_domain=40)\n",
    "    \n",
    "    # network architecture\n",
    "    net = dde.maps.FNN([1] + [128] + [64] + [32] + [16] + [8] + [1], activation, initializer)\n",
    "    net.apply_output_transform(lambda x, y: x * (1 - x) * y)\n",
    "\n",
    "    # training\n",
    "    model = dde.Model(data, net)\n",
    "    model.compile(optimizer, metrics=[\"l2 relative error\"])\n",
    "    losshistory, train_state = model.train(epochs=50000)\n",
    "\n",
    "    # testing\n",
    "    X = geom.random_points(1000)\n",
    "    y_true = NNSol(X)\n",
    "    y_pred = model.predict(X)\n",
    "    \n",
    "    model.print_model()\n",
    "    \n",
    "    return losshistory "
   ]
  },
  {
   "cell_type": "markdown",
   "metadata": {},
   "source": [
    "We considered a feed-forward NN with 5 hidden layers and a configuration of 128-64-32-16-8 neurons.\n",
    "In our work training waas done with different combinations of hyperparameters:\n",
    "- activation function: tanh, silu;\n",
    "- optimizer: L-BFGS;\n",
    "- initializer (weights): Glorot Normal with mean and standard deviation given respectively by $0$ and  $\\sqrt{\\frac{2}{n^{k}+n^{k-1}}}$ ($n^j$ is the number of neurons in the layer $j=k-1,k$) and uniform distributions given by $U(-1,1)$ and $U(-2,2)$;\n",
    "- alpha: 1.9,1.8,1.7,1.6,1.5,1.4,1.3,1.2;\n",
    "\n",
    "we implemented a multi-start strategy to avoid being trapped in a local optimal solution"
   ]
  },
  {
   "cell_type": "code",
   "execution_count": 3,
   "metadata": {},
   "outputs": [],
   "source": [
    "def multiStart(n, activation, optimizer, initializer, l_alpha):\n",
    "    res = {}\n",
    "    for j in range(len(l_alpha)):\n",
    "        res[str(l_alpha[j])] = []\n",
    "        for i in range(n):\n",
    "            res[str(l_alpha[j])].append(NN(activation, optimizer, initializer, l_alpha[j]))\n",
    "    return res"
   ]
  },
  {
   "cell_type": "code",
   "execution_count": 4,
   "metadata": {},
   "outputs": [],
   "source": [
    "l_alpha = [1.9]#,1.8,1.7,1.6,1.5,1.4,1.3,1.2]"
   ]
  },
  {
   "cell_type": "markdown",
   "metadata": {},
   "source": [
    "#### preprocess data\n",
    "\n",
    "we can organize the L2 relative errors by alpha value in a dataframe by using simple preprocessing"
   ]
  },
  {
   "cell_type": "code",
   "execution_count": 5,
   "metadata": {},
   "outputs": [],
   "source": [
    "def organize(results):\n",
    "    for k, v in results.items():\n",
    "        results[k] = list(map(lambda x: x.metrics_test[1][0], v))\n",
    "    print(pd.DataFrame.from_dict(results))"
   ]
  },
  {
   "cell_type": "markdown",
   "metadata": {},
   "source": [
    "## Glorot Normal"
   ]
  },
  {
   "cell_type": "code",
   "execution_count": 6,
   "metadata": {
    "id": "VyH7vAW52el_",
    "outputId": "3cfd2a1c-56d2-4835-b6a2-51600ab8acc6"
   },
   "outputs": [
    {
     "ename": "AttributeError",
     "evalue": "module 'deepxde' has no attribute 'geometry'",
     "output_type": "error",
     "traceback": [
      "\u001b[0;31m------------------------------------\u001b[0m",
      "\u001b[0;31mAttributeError\u001b[0mTraceback (most recent call last)",
      "Input \u001b[0;32mIn [6]\u001b[0m, in \u001b[0;36m<cell line: 1>\u001b[0;34m()\u001b[0m\n\u001b[0;32m----> 1\u001b[0m rGlorotTanh \u001b[38;5;241m=\u001b[39m \u001b[43mmultiStart\u001b[49m\u001b[43m(\u001b[49m\u001b[38;5;241;43m5\u001b[39;49m\u001b[43m,\u001b[49m\u001b[43m \u001b[49m\u001b[38;5;124;43m'\u001b[39;49m\u001b[38;5;124;43mLAAF-1 tanh\u001b[39;49m\u001b[38;5;124;43m'\u001b[39;49m\u001b[43m,\u001b[49m\u001b[43m \u001b[49m\u001b[38;5;124;43m'\u001b[39;49m\u001b[38;5;124;43mL-BFGS\u001b[39;49m\u001b[38;5;124;43m'\u001b[39;49m\u001b[43m,\u001b[49m\u001b[38;5;124;43m\"\u001b[39;49m\u001b[38;5;124;43mGlorot normal\u001b[39;49m\u001b[38;5;124;43m\"\u001b[39;49m\u001b[43m,\u001b[49m\u001b[43m \u001b[49m\u001b[43ml_alpha\u001b[49m\u001b[43m)\u001b[49m\n",
      "Input \u001b[0;32mIn [3]\u001b[0m, in \u001b[0;36mmultiStart\u001b[0;34m(n, activation, optimizer, initializer, l_alpha)\u001b[0m\n\u001b[1;32m      4\u001b[0m     res[\u001b[38;5;28mstr\u001b[39m(l_alpha[j])] \u001b[38;5;241m=\u001b[39m []\n\u001b[1;32m      5\u001b[0m     \u001b[38;5;28;01mfor\u001b[39;00m i \u001b[38;5;129;01min\u001b[39;00m \u001b[38;5;28mrange\u001b[39m(n):\n\u001b[0;32m----> 6\u001b[0m         res[\u001b[38;5;28mstr\u001b[39m(l_alpha[j])]\u001b[38;5;241m.\u001b[39mappend(\u001b[43mNN\u001b[49m\u001b[43m(\u001b[49m\u001b[43mactivation\u001b[49m\u001b[43m,\u001b[49m\u001b[43m \u001b[49m\u001b[43moptimizer\u001b[49m\u001b[43m,\u001b[49m\u001b[43m \u001b[49m\u001b[43minitializer\u001b[49m\u001b[43m,\u001b[49m\u001b[43m \u001b[49m\u001b[43ml_alpha\u001b[49m\u001b[43m[\u001b[49m\u001b[43mj\u001b[49m\u001b[43m]\u001b[49m\u001b[43m)\u001b[49m)\n\u001b[1;32m      7\u001b[0m \u001b[38;5;28;01mreturn\u001b[39;00m res\n",
      "Input \u001b[0;32mIn [2]\u001b[0m, in \u001b[0;36mNN\u001b[0;34m(activation, optimizer, initializer, alpha)\u001b[0m\n\u001b[1;32m     16\u001b[0m \u001b[38;5;28;01mdef\u001b[39;00m \u001b[38;5;21mNNSol\u001b[39m(x):\n\u001b[1;32m     17\u001b[0m     \u001b[38;5;66;03m# defining the forced non-smooth numerical solution\u001b[39;00m\n\u001b[1;32m     18\u001b[0m     \u001b[38;5;28;01mreturn\u001b[39;00m x \u001b[38;5;241m*\u001b[39m (np\u001b[38;5;241m.\u001b[39mabs(\u001b[38;5;241m1\u001b[39m \u001b[38;5;241m-\u001b[39m x\u001b[38;5;241m*\u001b[39m\u001b[38;5;241m*\u001b[39m\u001b[38;5;241m2\u001b[39m)) \u001b[38;5;241m*\u001b[39m\u001b[38;5;241m*\u001b[39m (alpha \u001b[38;5;241m/\u001b[39m \u001b[38;5;241m2\u001b[39m)\n\u001b[0;32m---> 21\u001b[0m geom \u001b[38;5;241m=\u001b[39m \u001b[43mdde\u001b[49m\u001b[38;5;241;43m.\u001b[39;49m\u001b[43mgeometry\u001b[49m\u001b[38;5;241m.\u001b[39mInterval(\u001b[38;5;241m0\u001b[39m, \u001b[38;5;241m1\u001b[39m)\n\u001b[1;32m     22\u001b[0m bc \u001b[38;5;241m=\u001b[39m dde\u001b[38;5;241m.\u001b[39mDirichletBC(geom, NNSol, \u001b[38;5;28;01mlambda\u001b[39;00m _, on_boundary: on_boundary)\n\u001b[1;32m     25\u001b[0m data \u001b[38;5;241m=\u001b[39m dde\u001b[38;5;241m.\u001b[39mdata\u001b[38;5;241m.\u001b[39mFPDE(geom, fle, alpha, bc, [\u001b[38;5;241m101\u001b[39m], meshtype\u001b[38;5;241m=\u001b[39m\u001b[38;5;124m\"\u001b[39m\u001b[38;5;124mstatic\u001b[39m\u001b[38;5;124m\"\u001b[39m, solution\u001b[38;5;241m=\u001b[39mNNSol, num_domain\u001b[38;5;241m=\u001b[39m\u001b[38;5;241m40\u001b[39m)\n",
      "\u001b[0;31mAttributeError\u001b[0m: module 'deepxde' has no attribute 'geometry'"
     ]
    }
   ],
   "source": [
    "rGlorotTanh = multiStart(5, 'LAAF-1 tanh', 'L-BFGS',\"Glorot normal\", l_alpha)"
   ]
  },
  {
   "cell_type": "code",
   "execution_count": null,
   "metadata": {},
   "outputs": [],
   "source": [
    "organize(rGlorotTanh)"
   ]
  },
  {
   "cell_type": "code",
   "execution_count": null,
   "metadata": {
    "id": "9l1xTH1p2emA",
    "outputId": "3ae29528-b849-4580-ecf5-dc973a6db744"
   },
   "outputs": [],
   "source": [
    "rGlorotSilu = multiStart(5, 'LAAF-1 silu', 'L-BFGS',\"Glorot normal\",l_alpha)"
   ]
  },
  {
   "cell_type": "code",
   "execution_count": null,
   "metadata": {},
   "outputs": [],
   "source": [
    "organize(rGlorotSilu)"
   ]
  },
  {
   "cell_type": "markdown",
   "metadata": {},
   "source": [
    "## Random uniform [-1,1]"
   ]
  },
  {
   "cell_type": "code",
   "execution_count": null,
   "metadata": {},
   "outputs": [],
   "source": [
    "initializer = tf.keras.initializers.RandomUniform(minval=-1, maxval=1, seed=None)"
   ]
  },
  {
   "cell_type": "code",
   "execution_count": null,
   "metadata": {
    "id": "VyH7vAW52el_",
    "outputId": "3cfd2a1c-56d2-4835-b6a2-51600ab8acc6"
   },
   "outputs": [],
   "source": [
    "rRandom1Tanh = multiStart(5, 'LAAF-1 tanh', 'L-BFGS',initializer,l_alpha)"
   ]
  },
  {
   "cell_type": "code",
   "execution_count": null,
   "metadata": {},
   "outputs": [],
   "source": [
    "organize(rRandom1Tanh)"
   ]
  },
  {
   "cell_type": "code",
   "execution_count": null,
   "metadata": {
    "id": "9l1xTH1p2emA",
    "outputId": "3ae29528-b849-4580-ecf5-dc973a6db744"
   },
   "outputs": [],
   "source": [
    "rRandom1Silu = multiStart(5, 'LAAF-1 silu', 'L-BFGS',initializer,l_alpha)"
   ]
  },
  {
   "cell_type": "code",
   "execution_count": null,
   "metadata": {},
   "outputs": [],
   "source": [
    "organize(rRandom1Silu)"
   ]
  },
  {
   "cell_type": "markdown",
   "metadata": {},
   "source": [
    "## Random uniform [-2,2]"
   ]
  },
  {
   "cell_type": "code",
   "execution_count": null,
   "metadata": {},
   "outputs": [],
   "source": [
    "initializer = tf.keras.initializers.RandomUniform(minval=-2, maxval=2, seed=None)"
   ]
  },
  {
   "cell_type": "code",
   "execution_count": null,
   "metadata": {
    "id": "VyH7vAW52el_",
    "outputId": "3cfd2a1c-56d2-4835-b6a2-51600ab8acc6"
   },
   "outputs": [],
   "source": [
    "rRandom2Tanh = multiStart(5, 'LAAF-1 tanh', 'L-BFGS',initializer,l_alpha)"
   ]
  },
  {
   "cell_type": "code",
   "execution_count": null,
   "metadata": {},
   "outputs": [],
   "source": [
    "organize(rRandom2Tanh)"
   ]
  },
  {
   "cell_type": "code",
   "execution_count": null,
   "metadata": {
    "id": "9l1xTH1p2emA",
    "outputId": "3ae29528-b849-4580-ecf5-dc973a6db744"
   },
   "outputs": [],
   "source": [
    "rRandom2Silu = multiStart(5, 'LAAF-1 silu', 'L-BFGS',initializer,l_alpha)"
   ]
  },
  {
   "cell_type": "code",
   "execution_count": null,
   "metadata": {},
   "outputs": [],
   "source": [
    "organize(rRandom2Silu)"
   ]
  }
 ],
 "metadata": {
  "colab": {
   "collapsed_sections": [],
   "name": "fPINNsAdaptive.ipynb",
   "provenance": []
  },
  "kernelspec": {
   "display_name": "Python 3",
   "language": "python",
   "name": "python3"
  },
  "language_info": {
   "codemirror_mode": {
    "name": "ipython",
    "version": 3
   },
   "file_extension": ".py",
   "mimetype": "text/x-python",
   "name": "python",
   "nbconvert_exporter": "python",
   "pygments_lexer": "ipython3",
   "version": "3.8.10"
  }
 },
 "nbformat": 4,
 "nbformat_minor": 1
}
